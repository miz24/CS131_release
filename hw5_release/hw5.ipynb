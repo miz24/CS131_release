{
 "cells": [
  {
   "cell_type": "markdown",
   "metadata": {},
   "source": [
    "# Homework 5\n",
    "*This notebook includes both coding and written questions. Please hand in this notebook file with all the outputs and your answers to the written questions.*\n",
    "\n",
    "This assignment covers K-Means and HAC methods for clustering."
   ]
  },
  {
   "cell_type": "code",
   "execution_count": 1,
   "metadata": {
    "collapsed": true
   },
   "outputs": [],
   "source": [
    "# Setup\n",
    "from time import time\n",
    "import numpy as np\n",
    "import matplotlib.pyplot as plt\n",
    "from matplotlib import rc\n",
    "from skimage import io\n",
    "\n",
    "from __future__ import print_function\n",
    "\n",
    "%matplotlib inline\n",
    "plt.rcParams['figure.figsize'] = (15.0, 12.0) # set default size of plots\n",
    "plt.rcParams['image.interpolation'] = 'nearest'\n",
    "plt.rcParams['image.cmap'] = 'gray'\n",
    "\n",
    "# for auto-reloading extenrnal modules\n",
    "%load_ext autoreload\n",
    "%autoreload 2"
   ]
  },
  {
   "cell_type": "markdown",
   "metadata": {},
   "source": [
    "## Introduction\n",
    "In this assignment, you will use clustering algorithms to segment images. You will then use these segmentations to identify foreground and background objects.\n",
    "\n",
    "Your assignment will involve the following subtasks:\n",
    "- **Clustering algorithms**: Implement K-Means clustering and Hierarchical Agglomerative Clustering.\n",
    "- **Pixel-level features**: Implement a feature vector that combines color and position information and implement feature normalization.\n",
    "- **Quantitative Evaluation**: Evaluate segmentation algorithms with a variety of parameter settings by comparing your computed segmentations against a dataset of ground-truth segmentations."
   ]
  },
  {
   "cell_type": "markdown",
   "metadata": {},
   "source": [
    "## 1 Clustering Algorithms (40 points)"
   ]
  },
  {
   "cell_type": "code",
   "execution_count": 2,
   "metadata": {},
   "outputs": [],
   "source": [
    "# Generate random data points for clustering\n",
    "\n",
    "# Cluster 1\n",
    "mean1 = [-1, 0]\n",
    "cov1 = [[0.1, 0], [0, 0.1]]\n",
    "X1 = np.random.multivariate_normal(mean1, cov1, 100)\n",
    "\n",
    "# Cluster 2\n",
    "mean2 = [0, 1]\n",
    "cov2 = [[0.1, 0], [0, 0.1]]\n",
    "X2 = np.random.multivariate_normal(mean2, cov2, 100)\n",
    "\n",
    "# Cluster 3\n",
    "mean3 = [1, 0]\n",
    "cov3 = [[0.1, 0], [0, 0.1]]\n",
    "X3 = np.random.multivariate_normal(mean3, cov3, 100)\n",
    "\n",
    "# Cluster 4\n",
    "mean4 = [0, -1]\n",
    "cov4 = [[0.1, 0], [0, 0.1]]\n",
    "X4 = np.random.multivariate_normal(mean4, cov4, 100)\n",
    "\n",
    "# Merge two sets of data points\n",
    "X = np.concatenate((X1, X2, X3, X4))\n",
    "\n",
    "# Plot data points\n",
    "plt.scatter(X[:, 0], X[:, 1])\n",
    "plt.axis('equal')\n",
    "plt.show()"
   ]
  },
  {
   "cell_type": "markdown",
   "metadata": {},
   "source": [
    "### 1.1 K-Means Clustering (20 points)\n",
    "As discussed in class, K-Means is one of the most popular clustering algorithms. We have provided skeleton code for K-Means clustering in the file `segmentation.py`. Your first task is to finish implementing **`kmeans`** in `segmentation.py`. This version uses nested for loops to assign points to the closest centroid and compute new mean of each cluster."
   ]
  },
  {
   "cell_type": "code",
   "execution_count": 3,
   "metadata": {},
   "outputs": [],
   "source": [
    "from segmentation import kmeans\n",
    "\n",
    "np.random.seed(0)\n",
    "start = time()\n",
    "assignments = kmeans(X, 4)\n",
    "end = time()\n",
    "\n",
    "kmeans_runtime = end - start\n",
    "\n",
    "print(\"kmeans running time: %f seconds.\" % kmeans_runtime)\n",
    "\n",
    "for i in range(4):\n",
    "    cluster_i = X[assignments==i]\n",
    "    plt.scatter(cluster_i[:, 0], cluster_i[:, 1])\n",
    "\n",
    "plt.axis('equal')\n",
    "plt.show()"
   ]
  },
  {
   "cell_type": "markdown",
   "metadata": {},
   "source": [
    "We can use numpy functions and broadcasting to make kmeans faster. Implement **`kmeans_fast`** in `segmentation.py`. This should run at least 10 times faster than the previous implementation."
   ]
  },
  {
   "cell_type": "code",
   "execution_count": 4,
   "metadata": {},
   "outputs": [],
   "source": [
    "from segmentation import kmeans_fast\n",
    "\n",
    "np.random.seed(0)\n",
    "start = time()\n",
    "assignments = kmeans_fast(X, 4)\n",
    "end = time()\n",
    "\n",
    "kmeans_fast_runtime = end - start\n",
    "print(\"kmeans running time: %f seconds.\" % kmeans_fast_runtime)\n",
    "print(\"%f times faster!\" % (kmeans_runtime / kmeans_fast_runtime))\n",
    "\n",
    "for i in range(4):\n",
    "    cluster_i = X[assignments==i]\n",
    "    plt.scatter(cluster_i[:, 0], cluster_i[:, 1])\n",
    "\n",
    "plt.axis('equal')\n",
    "plt.show()"
   ]
  },
  {
   "cell_type": "markdown",
   "metadata": {},
   "source": [
    "### 1.2 Hierarchical Agglomerative Clustering (20 points)\n",
    "Another simple clustering algorithm is Hieararchical Agglomerative Clustering, which is somtimes abbreviated as HAC. In this algorithm, each point is initially assigned to its own cluster. Then cluster pairs are merged until we are left with the desired number of predetermined clusters (see Algorithm 1).\n",
    "\n",
    "Implement **`hiererachical_clustering`** in `segmentation.py`.\n",
    "\n",
    "![algo1.png](attachment:algo1.png)"
   ]
  },
  {
   "cell_type": "code",
   "execution_count": 5,
   "metadata": {},
   "outputs": [],
   "source": [
    "from segmentation import hierarchical_clustering\n",
    "\n",
    "start = time()\n",
    "assignments = hierarchical_clustering(X, 4)\n",
    "end = time()\n",
    "\n",
    "print(\"hierarchical_clustering running time: %f seconds.\" % (end - start))\n",
    "\n",
    "for i in range(4):\n",
    "    cluster_i = X[assignments==i]\n",
    "    plt.scatter(cluster_i[:, 0], cluster_i[:, 1])\n",
    "\n",
    "plt.axis('equal')\n",
    "plt.show()"
   ]
  },
  {
   "cell_type": "markdown",
   "metadata": {},
   "source": [
    "## 2 Pixel-Level Features (30 points)\n",
    "Before we can use a clustering algorithm to segment an image, we must compute some *feature vectore* for each pixel. The feature vector for each pixel should encode the qualities that we cae about in a good segmentation. More concretely, for a pair of pixels $p_i$ and $p_j$ with corresponding feature vectors $f_i$ and $f_j$, the distance between $f_i$ and $f_j$ should be small if we believe that $p_i$ and $p_j$ should be placed in the same segment and large otherwise."
   ]
  },
  {
   "cell_type": "code",
   "execution_count": 6,
   "metadata": {},
   "outputs": [],
   "source": [
    "# Load and display image\n",
    "img = io.imread('train.jpg')\n",
    "H, W, C = img.shape\n",
    "\n",
    "plt.imshow(img)\n",
    "plt.axis('off')\n",
    "plt.show()"
   ]
  },
  {
   "cell_type": "markdown",
   "metadata": {},
   "source": [
    "### 2.1 Color Features (15 points)\n",
    "One of the simplest possible feature vectors for a pixel is simply the vector of colors for that pixel. Implement **`color_features`** in `segmentation.py`. Output should look like the following:\n",
    "![color_features.png](attachment:color_features.png)"
   ]
  },
  {
   "cell_type": "code",
   "execution_count": 7,
   "metadata": {},
   "outputs": [],
   "source": [
    "from segmentation import color_features\n",
    "np.random.seed(0)\n",
    "\n",
    "features = color_features(img)\n",
    "\n",
    "# Sanity checks\n",
    "assert features.shape == (H * W, C),\\\n",
    "    \"Incorrect shape! Check your implementation.\"\n",
    "\n",
    "assert features.dtype == np.float,\\\n",
    "    \"dtype of color_features should be float.\"\n",
    "\n",
    "assignments = kmeans_fast(features, 8)\n",
    "segments = assignments.reshape((H, W))\n",
    "\n",
    "# Display segmentation\n",
    "plt.imshow(segments, cmap='viridis')\n",
    "plt.axis('off')\n",
    "plt.show()"
   ]
  },
  {
   "cell_type": "markdown",
   "metadata": {},
   "source": [
    "In the cell below, we visualize each segment as the mean color of pixels in the segment."
   ]
  },
  {
   "cell_type": "code",
   "execution_count": 8,
   "metadata": {},
   "outputs": [],
   "source": [
    "from utils import visualize_mean_color_image\n",
    "visualize_mean_color_image(img, segments)"
   ]
  },
  {
   "cell_type": "markdown",
   "metadata": {},
   "source": [
    "### 2.2 Color and Position Features (15 points)\n",
    "Another simple feature vector for a pixel is to concatenate its color and position within the image. In other words, for a pixel of color $(r, g, b)$ located at position $(x, y)$ in the image, its feature vector would be $(r, g, b, x, y)$. However, the color and position features may have drastically different ranges; for example each color channel of an image may be in the range $[0, 1)$, while the position of each pixel may have a much wider range. Uneven scaling between different features in the feature vector may cause clustering algorithms to behave poorly.\n",
    "\n",
    "One way to correct for uneven scaling between different features is to apply some sort of normalization to the feature vector. One of the simplest types of normalization is to force each feature to have zero mean and unit variance.\n",
    "\n",
    "Implement **`color_position_features`** in `segmentation.py`.\n",
    "\n",
    "Output segmentation should look like the following:\n",
    "![color_position_features.png](attachment:color_position_features.png)"
   ]
  },
  {
   "cell_type": "code",
   "execution_count": 9,
   "metadata": {},
   "outputs": [],
   "source": [
    "from segmentation import color_position_features\n",
    "np.random.seed(0)\n",
    "\n",
    "features = color_position_features(img)\n",
    "\n",
    "# Sanity checks\n",
    "assert features.shape == (H * W, C + 2),\\\n",
    "    \"Incorrect shape! Check your implementation.\"\n",
    "\n",
    "assert features.dtype == np.float,\\\n",
    "    \"dtype of color_features should be float.\"\n",
    "\n",
    "assignments = kmeans_fast(features, 8)\n",
    "segments = assignments.reshape((H, W))\n",
    "\n",
    "# Display segmentation\n",
    "plt.imshow(segments, cmap='viridis')\n",
    "plt.axis('off')\n",
    "plt.show()"
   ]
  },
  {
   "cell_type": "code",
   "execution_count": 10,
   "metadata": {},
   "outputs": [],
   "source": [
    "visualize_mean_color_image(img, segments)"
   ]
  },
  {
   "cell_type": "markdown",
   "metadata": {},
   "source": [
    "### Extra Credit: Implement Your Own Feature\n",
    "For this programming assignment we have asked you to implement a very simple feature transform for each pixel. While it is not required, you should feel free to experiment with other feature transforms. Could your final segmentations be improved by adding gradients, edges, SIFT descriptors, or other information to your feature vectors? Could a different type of normalization give better results?\n",
    "\n",
    "Implement your feature extractor **`my_features`** in `segmentation.py`\n",
    "\n",
    "Depending on the creativity of your approach and the quality of your writeup, implementing extra feature vectors can be worth extra credit (up to 5% of total points)."
   ]
  },
  {
   "cell_type": "markdown",
   "metadata": {},
   "source": [
    "**Describe your approach**: (YOUR APPROACH)"
   ]
  },
  {
   "cell_type": "code",
   "execution_count": null,
   "metadata": {
    "collapsed": true
   },
   "outputs": [],
   "source": [
    "from segmentation import my_features\n",
    "\n",
    "# Feel free to experiment with different images\n",
    "# and varying number of segments\n",
    "img = io.imread('train.jpg')\n",
    "num_segments = 8\n",
    "\n",
    "H, W, C = img.shape\n",
    "\n",
    "# Extract pixel-level features\n",
    "features = my_features(img)\n",
    "\n",
    "# Run clustering algorithm\n",
    "assignments = kmeans_fast(features, num_segments)\n",
    "\n",
    "segments = assignments.reshape((H, W))\n",
    "\n",
    "# Display segmentation\n",
    "plt.imshow(segments, cmap='viridis')\n",
    "plt.axis('off')\n",
    "plt.show()"
   ]
  },
  {
   "cell_type": "markdown",
   "metadata": {},
   "source": [
    "## 3 Quantitative Evaluation (30 points)\n",
    "\n",
    "Looking at images is a good way to get an idea for how well an algorithm is working, but the best way to evaluate an algorithm is to have some quantitative measure of its performance.\n",
    "\n",
    "For this project we have supplied a small dataset of cat images and ground truth segmentations of these images into foreground (cats) and background (everything else). We will quantitatively evaluate different segmentation methods (features and clustering methods) on this dataset.\n",
    "\n",
    "We can cast the segmentation task into a binary classification problem, where we need to classify each pixel in an image into either foreground (positive) or background (negative). Given the ground-truth labels, the accuracy of a segmentation is $(TP+TN)/(P+N)$.\n",
    "\n",
    "Implement **`compute_accuracy`** in `segmentation.py`."
   ]
  },
  {
   "cell_type": "code",
   "execution_count": 18,
   "metadata": {},
   "outputs": [],
   "source": [
    "from segmentation import compute_accuracy\n",
    "\n",
    "mask_gt = np.zeros((100, 100))\n",
    "mask = np.zeros((100, 100))\n",
    "\n",
    "# Test compute_accracy function\n",
    "mask_gt[20:50, 30:60] = 1\n",
    "mask[30:50, 30:60] = 1\n",
    "\n",
    "accuracy = compute_accuracy(mask_gt, mask)\n",
    "\n",
    "print('Accuracy: %0.2f' % (accuracy))\n",
    "if accuracy != 0.97:\n",
    "    print('Check your implementation!')\n",
    "\n",
    "plt.subplot(121)\n",
    "plt.imshow(mask_gt)\n",
    "plt.title('Ground Truth')\n",
    "plt.axis('off')\n",
    "\n",
    "plt.subplot(122)\n",
    "plt.imshow(mask)\n",
    "plt.title('Estimate')\n",
    "plt.axis('off')\n",
    "\n",
    "plt.show()"
   ]
  },
  {
   "cell_type": "markdown",
   "metadata": {},
   "source": [
    "You can use the script below to evaluate a segmentation method’s ability to separate foreground from background on the entire provided dataset. Use this script as a starting point to evaluate a variety of segmentation parameters."
   ]
  },
  {
   "cell_type": "code",
   "execution_count": 18,
   "metadata": {},
   "outputs": [],
   "source": [
    "from utils import load_dataset, compute_segmentation\n",
    "from segmentation import evaluate_segmentation\n",
    "\n",
    "# Load a small segmentation dataset\n",
    "imgs, gt_masks = load_dataset('./data')\n",
    "\n",
    "# Set the parameters for segmentation.\n",
    "num_segments = 3\n",
    "clustering_fn = kmeans_fast\n",
    "feature_fn = color_features\n",
    "scale = 0.5\n",
    "\n",
    "mean_accuracy = 0.0\n",
    "\n",
    "segmentations = []\n",
    "\n",
    "for i, (img, gt_mask) in enumerate(zip(imgs, gt_masks)):\n",
    "    # Compute a segmentation for this image\n",
    "    segments = compute_segmentation(img, num_segments,\n",
    "                                    clustering_fn=clustering_fn,\n",
    "                                    feature_fn=feature_fn,\n",
    "                                    scale=scale)\n",
    "    \n",
    "    segmentations.append(segments)\n",
    "    \n",
    "    # Evaluate segmentation\n",
    "    accuracy = evaluate_segmentation(gt_mask, segments)\n",
    "    \n",
    "    print('Accuracy for image %d: %0.4f' %(i, accuracy))\n",
    "    mean_accuracy += accuracy\n",
    "    \n",
    "mean_accuracy = mean_accuracy / len(imgs)\n",
    "print('Mean accuracy: %0.4f' % mean_accuracy)"
   ]
  },
  {
   "cell_type": "code",
   "execution_count": 19,
   "metadata": {
    "scrolled": false
   },
   "outputs": [],
   "source": [
    "# Visualize segmentation results\n",
    "\n",
    "N = len(imgs)\n",
    "plt.figure(figsize=(15,60))\n",
    "for i in range(N):\n",
    "\n",
    "    plt.subplot(N, 3, (i * 3) + 1)\n",
    "    plt.imshow(imgs[i])\n",
    "    plt.axis('off')\n",
    "\n",
    "    plt.subplot(N, 3, (i * 3) + 2)\n",
    "    plt.imshow(gt_masks[i])\n",
    "    plt.axis('off')\n",
    "\n",
    "    plt.subplot(N, 3, (i * 3) + 3)\n",
    "    plt.imshow(segmentations[i], cmap='viridis')\n",
    "    plt.axis('off')\n",
    "\n",
    "plt.show()"
   ]
  },
  {
   "cell_type": "markdown",
   "metadata": {},
   "source": [
    "Include a detailed evaluation of the effect of varying segmentation parameters (feature transform, clustering method, number of clusters, resize) on the mean accuracy of foreground-background segmentations on the provided dataset. You should test a minimum of 10 combinations of parameters. To present your results, add rows to the table below (you may delete the first row)."
   ]
  },
  {
   "cell_type": "markdown",
   "metadata": {
    "collapsed": true
   },
   "source": [
    " <table style=\"width:100%\">\n",
    "  <tr>\n",
    "    <th>Feature Transform</th>\n",
    "    <th>Clustering Method</th>\n",
    "    <th>Number of segments</th>\n",
    "    <th>Scale</th>\n",
    "    <th>Mean Accuracy</th>\n",
    "  </tr>\n",
    "  <tr>\n",
    "    <td>Color</td>\n",
    "    <td>K-Means</td>\n",
    "    <td>3</td>\n",
    "    <td>0.5</td>\n",
    "    <td>0.58</td>\n",
    "  </tr>\n",
    "   <tr>\n",
    "    <td>...</td>\n",
    "    <td>...</td>\n",
    "    <td>...</td>\n",
    "    <td>...</td>\n",
    "    <td>...</td>\n",
    "  </tr>\n",
    "</table> "
   ]
  },
  {
   "cell_type": "markdown",
   "metadata": {},
   "source": [
    "Observe your results carefully and try to answer the following question:\n",
    "1. Based on your quantitative experiments, how do each of the segmentation parameters affect the quality of the final foreground-background segmentation?\n",
    "2. Are some images simply more difficult to segment correctly than others? If so, what are the qualities of these images that cause the segmentation algorithms to perform poorly?\n",
    "3. Also feel free to point out or discuss any other interesting observations that you made.\n",
    "\n",
    "Write your analysis in the cell below."
   ]
  },
  {
   "cell_type": "markdown",
   "metadata": {},
   "source": [
    "**Your answer here**:"
   ]
  },
  {
   "cell_type": "code",
   "execution_count": null,
   "metadata": {
    "collapsed": true
   },
   "outputs": [],
   "source": []
  }
 ],
 "metadata": {
  "kernelspec": {
   "display_name": "Python 3",
   "name": "python3",
   "language": "python"
  },
  "language_info": {
   "mimetype": "text/x-python",
   "nbconvert_exporter": "python",
   "name": "python",
   "file_extension": ".py",
   "version": "3.5.2",
   "pygments_lexer": "ipython3",
   "codemirror_mode": {
    "version": 3,
    "name": "ipython"
   }
  }
 },
 "nbformat": 4,
 "nbformat_minor": 2
}
